{
  "cells": [
    {
      "cell_type": "markdown",
      "metadata": {
        "id": "ltX7QsdgQaHt"
      },
      "source": [
        "Exercise 1: Calculate the multiplication and sum of two numbers\n",
        "\n",
        "Given two integer numbers, return their product only if the product is equal to or lower than 1000. Otherwise, return their sum.\n",
        "\n",
        "- number1 = 20  <br> number2 = 30  <br> result = 600\n",
        "- number1 = 40  <br> number2 = 30  <br> result = 70"
      ]
    },
    {
      "cell_type": "code",
      "execution_count": 52,
      "metadata": {
        "colab": {
          "base_uri": "https://localhost:8080/"
        },
        "id": "ZfUD8dZ6QIDr",
        "outputId": "351bf751-279c-4c3c-d5ae-c0e7512e9e3f"
      },
      "outputs": [
        {
          "output_type": "stream",
          "name": "stdout",
          "text": [
            "Output 1 = 600\n",
            "Output 2 = 70\n"
          ]
        }
      ],
      "source": [
        "def multiply_or_add(n1,n2):\n",
        "  product = n1*n2\n",
        "  if product <= 1000:\n",
        "    return product\n",
        "  else:\n",
        "    return n1+n2\n",
        "\n",
        "print(f\"Output 1 = {multiply_or_add(20,30)}\")\n",
        "print(f\"Output 2 = {multiply_or_add(40,30)}\")"
      ]
    },
    {
      "cell_type": "code",
      "source": [
        "def divide_or_subtract(n1,n2):\n",
        "  quotient = n1/n2\n",
        "  if quotient <= 50:\n",
        "    return quotient\n",
        "  else:\n",
        "    return n1-n2\n",
        "print(f\"Output 3 = {divide_or_subtract(400,20)}\")\n",
        "print(f\"Output 4 = {divide_or_subtract(750,10)}\")"
      ],
      "metadata": {
        "colab": {
          "base_uri": "https://localhost:8080/"
        },
        "id": "Sq5Na6eLFtCU",
        "outputId": "80b0f121-b59f-4c32-c705-1012750cff14"
      },
      "execution_count": 57,
      "outputs": [
        {
          "output_type": "stream",
          "name": "stdout",
          "text": [
            "Output 3 = 20.0\n",
            "Output 4 = 740\n"
          ]
        }
      ]
    },
    {
      "cell_type": "markdown",
      "metadata": {
        "id": "Su7Q9SumTJvc"
      },
      "source": [
        "Exercise 2: Print the sum of the current number and the previous number\n",
        "\n",
        "Write a program to iterate the first 10 numbers, and in each iteration, print the sum of the current and previous number."
      ]
    },
    {
      "cell_type": "code",
      "execution_count": 2,
      "metadata": {
        "colab": {
          "base_uri": "https://localhost:8080/"
        },
        "id": "r-Cdg6iGR7t1",
        "outputId": "5e209d89-29d0-44ef-d5db-99909a7a1608"
      },
      "outputs": [
        {
          "output_type": "stream",
          "name": "stdout",
          "text": [
            "Current number - 1 , Previous number - 0, Sum - 1\n",
            "Current number - 2 , Previous number - 1, Sum - 3\n",
            "Current number - 3 , Previous number - 2, Sum - 5\n",
            "Current number - 4 , Previous number - 3, Sum - 7\n",
            "Current number - 5 , Previous number - 4, Sum - 9\n",
            "Current number - 6 , Previous number - 5, Sum - 11\n",
            "Current number - 7 , Previous number - 6, Sum - 13\n",
            "Current number - 8 , Previous number - 7, Sum - 15\n",
            "Current number - 9 , Previous number - 8, Sum - 17\n",
            "Current number - 10 , Previous number - 9, Sum - 19\n"
          ]
        }
      ],
      "source": [
        "prev_num = 0\n",
        "for i in range(1,11):\n",
        "  result = prev_num + i\n",
        "  print(f\"Current number - {i} , Previous number - {prev_num}, Sum - {result}\")\n",
        "  prev_num = i"
      ]
    },
    {
      "cell_type": "code",
      "source": [
        "prev_num = 0\n",
        "for i in range(1,6):\n",
        "  result = prev_num + i\n",
        "  print(f\"Current number = {i}, Previous number {prev_num} , Sum = {result}\")\n",
        "  prev_num = i"
      ],
      "metadata": {
        "colab": {
          "base_uri": "https://localhost:8080/"
        },
        "id": "ZZzNoaGuIQMv",
        "outputId": "480995d6-f134-4edf-a887-4a15da86f3df"
      },
      "execution_count": 67,
      "outputs": [
        {
          "output_type": "stream",
          "name": "stdout",
          "text": [
            "Current number = 1, Previous number 0 , Sum = 1\n",
            "Current number = 2, Previous number 1 , Sum = 3\n",
            "Current number = 3, Previous number 2 , Sum = 5\n",
            "Current number = 4, Previous number 3 , Sum = 7\n",
            "Current number = 5, Previous number 4 , Sum = 9\n"
          ]
        }
      ]
    },
    {
      "cell_type": "markdown",
      "metadata": {
        "id": "VE6nhvJqelLr"
      },
      "source": [
        "Exercise 3: Print characters from a string that are present at an even index number\n",
        "Write a program to accept a string from the user and display characters that are present at an even index number.\n",
        "\n",
        "For example, str = \"pynative\" so you should display ‘p’, ‘n’, ‘t’, ‘v’."
      ]
    },
    {
      "cell_type": "code",
      "execution_count": 3,
      "metadata": {
        "colab": {
          "base_uri": "https://localhost:8080/"
        },
        "id": "GDrRx4iadVld",
        "outputId": "d0221369-702f-4693-8e18-2f2a62061f07"
      },
      "outputs": [
        {
          "output_type": "stream",
          "name": "stdout",
          "text": [
            "Enter a word = pynative\n",
            "p\n",
            "n\n",
            "t\n",
            "v\n"
          ]
        }
      ],
      "source": [
        "string = input(\"Enter a word = \")\n",
        "for i in range(0,len(string)-1, 2):\n",
        "  print(string[i])"
      ]
    },
    {
      "cell_type": "code",
      "source": [
        "string = input(\"Enter a word = \")\n",
        "for i in range(0, len(string)-1, 2):\n",
        "  print(string[i])"
      ],
      "metadata": {
        "colab": {
          "base_uri": "https://localhost:8080/"
        },
        "id": "gVsJL727JTbn",
        "outputId": "2d649429-efce-4c8e-b783-016a8700fe05"
      },
      "execution_count": 68,
      "outputs": [
        {
          "output_type": "stream",
          "name": "stdout",
          "text": [
            "Enter a word = onomatopoeia\n",
            "o\n",
            "o\n",
            "a\n",
            "o\n",
            "o\n",
            "i\n"
          ]
        }
      ]
    },
    {
      "cell_type": "markdown",
      "metadata": {
        "id": "jMvDsy4uDGH2"
      },
      "source": [
        "Exercise 4: Remove first n characters from a string\n",
        "Write a program to remove characters from a string starting from zero up to n and return a new string.\n",
        "\n",
        "For example:\n",
        "\n",
        "remove_chars(\"pynative\", 4) so output must be tive. Here, we need to remove the first four characters from a string.\n",
        "remove_chars(\"pynative\", 2) so output must be native. Here, we need to remove the first two characters from a string.\n",
        "Note: n must be less than the length of the string."
      ]
    },
    {
      "cell_type": "code",
      "execution_count": 4,
      "metadata": {
        "colab": {
          "base_uri": "https://localhost:8080/",
          "height": 35
        },
        "id": "ifOLAbu3e1F-",
        "outputId": "36d1fae2-75d0-4db7-ef8f-02b71dead273"
      },
      "outputs": [
        {
          "output_type": "execute_result",
          "data": {
            "text/plain": [
              "'tive'"
            ],
            "application/vnd.google.colaboratory.intrinsic+json": {
              "type": "string"
            }
          },
          "metadata": {},
          "execution_count": 4
        }
      ],
      "source": [
        "def remove_chars(str1, n):\n",
        "  return str1[n:]\n",
        "remove_chars('pynative',4)"
      ]
    },
    {
      "cell_type": "code",
      "source": [
        "str2 = 'Structured Query Language'\n",
        "str2[11:-9]"
      ],
      "metadata": {
        "colab": {
          "base_uri": "https://localhost:8080/",
          "height": 35
        },
        "id": "nyGTHnKaKqMq",
        "outputId": "523fab66-2d8e-43c1-b3f2-7ae547f53ee6"
      },
      "execution_count": 77,
      "outputs": [
        {
          "output_type": "execute_result",
          "data": {
            "text/plain": [
              "'Query'"
            ],
            "application/vnd.google.colaboratory.intrinsic+json": {
              "type": "string"
            }
          },
          "metadata": {},
          "execution_count": 77
        }
      ]
    },
    {
      "cell_type": "markdown",
      "source": [
        "Exercise 5: Check if the first and last number of a list is the same\n",
        "\n",
        "Write a function to return True if the first and last number of a given list is same. If numbers are different then return False.\n"
      ],
      "metadata": {
        "id": "k5cfVpI6kHlL"
      }
    },
    {
      "cell_type": "code",
      "execution_count": 5,
      "metadata": {
        "id": "6AfzDPm2EKRp",
        "colab": {
          "base_uri": "https://localhost:8080/"
        },
        "outputId": "66f7bd97-7d52-432b-f52f-9e7d944674ef"
      },
      "outputs": [
        {
          "output_type": "stream",
          "name": "stdout",
          "text": [
            "True\n",
            "False\n"
          ]
        }
      ],
      "source": [
        "def check_first_and_last(num_list):\n",
        "  first_num = num_list[0]\n",
        "  last_num = num_list[-1]\n",
        "  if first_num == last_num:\n",
        "    print(True)\n",
        "  else:\n",
        "    print(False)\n",
        "\n",
        "numbers_x = [10, 20, 30, 40, 10]\n",
        "numbers_y = [75, 65, 35, 75, 30]\n",
        "check_first_and_last(numbers_x)\n",
        "check_first_and_last(numbers_y)"
      ]
    },
    {
      "cell_type": "markdown",
      "source": [
        "Exercise 6: Display numbers divisible by 5 from a list\n",
        "\n",
        "Iterate the given list of numbers and print only those numbers which are divisible by 5"
      ],
      "metadata": {
        "id": "F0cHW_wQlGL2"
      }
    },
    {
      "cell_type": "code",
      "source": [
        "def divisible_by_5(num_list):\n",
        "  for num in num_list:\n",
        "    if num % 5 == 0:\n",
        "      print(num)\n",
        "\n",
        "num_list = [10, 20, 33, 46, 55]\n",
        "divisible_by_5(num_list)"
      ],
      "metadata": {
        "colab": {
          "base_uri": "https://localhost:8080/"
        },
        "id": "E12biE87lIML",
        "outputId": "7d120b13-be55-46e5-9abc-e97b6cd1f6e4"
      },
      "execution_count": 6,
      "outputs": [
        {
          "output_type": "stream",
          "name": "stdout",
          "text": [
            "10\n",
            "20\n",
            "55\n"
          ]
        }
      ]
    },
    {
      "cell_type": "markdown",
      "source": [
        "Exercise 7: Return the count of a given substring from a string\n",
        "\n",
        "Write a program to find how many times substring “Emma” appears in the given string."
      ],
      "metadata": {
        "id": "fTu8USlmlAnr"
      }
    },
    {
      "cell_type": "code",
      "source": [
        "str_x = \"Emma is good developer. Emma is a writer\"\n",
        "\n",
        "def check_substring(input_str):\n",
        "  return input_str.count('Emma')\n",
        "\n",
        "print(f\"Emma appeared {check_substring(str_x)} times\")"
      ],
      "metadata": {
        "colab": {
          "base_uri": "https://localhost:8080/"
        },
        "id": "NwmrHSRKk9C1",
        "outputId": "47e9f5b0-8ea1-48ba-e23b-f3f18727fc54"
      },
      "execution_count": 8,
      "outputs": [
        {
          "output_type": "stream",
          "name": "stdout",
          "text": [
            "Emma appeared 2 times\n"
          ]
        }
      ]
    },
    {
      "cell_type": "markdown",
      "source": [
        "Exercise 8: Print the following pattern\n",
        "\n",
        "1\n",
        "\n",
        "2 2\n",
        "\n",
        "3 3 3\n",
        "\n",
        "4 4 4 4\n",
        "\n",
        "5 5 5 5 5"
      ],
      "metadata": {
        "id": "TmRPYEvOnOZt"
      }
    },
    {
      "cell_type": "code",
      "source": [
        "for num in range(10):\n",
        "  for i in range(num):\n",
        "    print(num, end = \" \")\n",
        "  print('\\n')"
      ],
      "metadata": {
        "colab": {
          "base_uri": "https://localhost:8080/"
        },
        "id": "FasK2R8GmgmZ",
        "outputId": "4d6961c4-70f3-4691-c6c3-3811b4fee3b6"
      },
      "execution_count": 86,
      "outputs": [
        {
          "output_type": "stream",
          "name": "stdout",
          "text": [
            "\n",
            "\n",
            "1 \n",
            "\n",
            "2 2 \n",
            "\n",
            "3 3 3 \n",
            "\n",
            "4 4 4 4 \n",
            "\n",
            "5 5 5 5 5 \n",
            "\n",
            "6 6 6 6 6 6 \n",
            "\n",
            "7 7 7 7 7 7 7 \n",
            "\n",
            "8 8 8 8 8 8 8 8 \n",
            "\n",
            "9 9 9 9 9 9 9 9 9 \n",
            "\n"
          ]
        }
      ]
    },
    {
      "cell_type": "code",
      "source": [
        "for num in range(6):\n",
        "  for i in range(num):\n",
        "    print(num, end = \" \")\n",
        "  print('\\n')"
      ],
      "metadata": {
        "colab": {
          "base_uri": "https://localhost:8080/"
        },
        "id": "fF5z6tLGL48L",
        "outputId": "9135f9ab-847a-45ba-d830-3ffc129f2cca"
      },
      "execution_count": 99,
      "outputs": [
        {
          "output_type": "stream",
          "name": "stdout",
          "text": [
            "\n",
            "\n",
            "1 \n",
            "\n",
            "2 2 \n",
            "\n",
            "3 3 3 \n",
            "\n",
            "4 4 4 4 \n",
            "\n",
            "5 5 5 5 5 \n",
            "\n"
          ]
        }
      ]
    },
    {
      "cell_type": "markdown",
      "source": [
        "Exercise 9: Check Palindrome Number\n",
        "\n",
        "Write a program to check if the given number is a palindrome number.\n",
        "\n",
        "A palindrome number is a number that is the same after reverse. For example, 545, is the palindrome numbers"
      ],
      "metadata": {
        "id": "pj7YEDCtqVep"
      }
    },
    {
      "cell_type": "code",
      "source": [
        "def palindrome(number):\n",
        "    print(\"original number\", number)\n",
        "    original_num = number\n",
        "    reverse_num = 0\n",
        "    while number > 0:\n",
        "        reminder = number % 10\n",
        "        reverse_num = (reverse_num * 10) + reminder\n",
        "        number = number // 10\n",
        "    if original_num == reverse_num:\n",
        "        print(\"Given number is palindrome\")\n",
        "    else:\n",
        "        print(\"Given number is not a palindrome\")\n",
        "\n",
        "palindrome(121)\n",
        "palindrome(125)"
      ],
      "metadata": {
        "colab": {
          "base_uri": "https://localhost:8080/"
        },
        "id": "MZTSBAzrnssD",
        "outputId": "abf195e8-9c6d-4b32-c7a6-98c9ce994cac"
      },
      "execution_count": 17,
      "outputs": [
        {
          "output_type": "stream",
          "name": "stdout",
          "text": [
            "original number 121\n",
            "Given number is palindrome\n",
            "original number 125\n",
            "Given number is not a palindrome\n"
          ]
        }
      ]
    },
    {
      "cell_type": "code",
      "source": [
        "num = 121\n",
        "def is_palindrome(num):\n",
        "    original_num = num\n",
        "    reverse_num = 0\n",
        "    while num > 0:\n",
        "      reminder = num % 10\n",
        "      print(f\"Reminder = {reminder}\")\n",
        "      print()\n",
        "      reverse_num = (reverse_num*10) + reminder\n",
        "      print(f\"Reversed number = {reverse_num}\")\n",
        "      print()\n",
        "      num = num // 10\n",
        "      print(f\" Number = {num}\")\n",
        "      print(\"-----------------------------------------\")\n",
        "    if original_num == reverse_num:\n",
        "      print(f\"Given number is a palindrome\")\n",
        "    else:\n",
        "      print(f\"Given number is not a palindrome\")\n",
        "\n",
        "is_palindrome(11)"
      ],
      "metadata": {
        "colab": {
          "base_uri": "https://localhost:8080/"
        },
        "id": "u1oZxnSoPOH5",
        "outputId": "3f3a17cb-e9d4-4c55-c1a2-674b85343b80"
      },
      "execution_count": 131,
      "outputs": [
        {
          "output_type": "stream",
          "name": "stdout",
          "text": [
            "Reminder = 1\n",
            "\n",
            "Reversed number = 1\n",
            "\n",
            " Number = 1\n",
            "-----------------------------------------\n",
            "Reminder = 1\n",
            "\n",
            "Reversed number = 11\n",
            "\n",
            " Number = 0\n",
            "-----------------------------------------\n",
            "Given number is a palindrome\n"
          ]
        }
      ]
    },
    {
      "cell_type": "code",
      "source": [
        "is_palindrome(10)"
      ],
      "metadata": {
        "colab": {
          "base_uri": "https://localhost:8080/"
        },
        "id": "uxZuNCq1T_KL",
        "outputId": "9bbc9a17-f9e3-4f44-e326-2ffe27412737"
      },
      "execution_count": 132,
      "outputs": [
        {
          "output_type": "stream",
          "name": "stdout",
          "text": [
            "Reminder = 0\n",
            "\n",
            "Reversed number = 0\n",
            "\n",
            " Number = 1\n",
            "-----------------------------------------\n",
            "Reminder = 1\n",
            "\n",
            "Reversed number = 1\n",
            "\n",
            " Number = 0\n",
            "-----------------------------------------\n",
            "Given number is not a palindrome\n"
          ]
        }
      ]
    },
    {
      "cell_type": "code",
      "source": [
        "def check_palindrome(n):\n",
        "  org_n = n\n",
        "  rev_n = 0\n",
        "  while n > 0:\n",
        "    rem = n % 10\n",
        "    rev_n = (rev_n * 10) + rem\n",
        "    n = n // 10\n",
        "  if org_n == rev_n:\n",
        "    print(\"Is a Palindrome\")\n",
        "  else:\n",
        "    print(\"Not a Palindrome\")\n",
        "\n",
        "check_palindrome(12321)\n",
        "check_palindrome(129)"
      ],
      "metadata": {
        "colab": {
          "base_uri": "https://localhost:8080/"
        },
        "id": "bT-_RpvIVLZ2",
        "outputId": "d71688ee-e4d5-4178-eeb6-40d7dd5ae2e3"
      },
      "execution_count": 137,
      "outputs": [
        {
          "output_type": "stream",
          "name": "stdout",
          "text": [
            "Is a Palindrome\n",
            "Not a Palindrome\n"
          ]
        }
      ]
    },
    {
      "cell_type": "markdown",
      "source": [
        "Exercise 10: Create a new list from two list using the following condition\n",
        "\n",
        "Create a new list from two list using the following condition\n",
        "\n",
        "Given two list of numbers, write a program to create a new list such that the new list should contain odd numbers from the first list and even numbers from the second list."
      ],
      "metadata": {
        "id": "_sOHPcYlrL8k"
      }
    },
    {
      "cell_type": "code",
      "source": [
        "def odd_and_even(num_list1, num_list2):\n",
        "  final_list = []\n",
        "  for i in num_list1:\n",
        "    if i % 2 != 0:\n",
        "      final_list.append(i)\n",
        "  print(f\"List 1 = Odd Output = {final_list}\")\n",
        "  for i in num_list2:\n",
        "    if i % 2 == 0:\n",
        "      final_list.append(i)\n",
        "  print(f\"List 2 = Even Output = {final_list}\")\n",
        "  return final_list\n",
        "\n",
        "list1 = [10, 20, 25, 30, 35]\n",
        "list2 = [40, 45, 60, 75, 90]\n",
        "odd_and_even(list1, list2)"
      ],
      "metadata": {
        "colab": {
          "base_uri": "https://localhost:8080/"
        },
        "id": "SDokoVgTq9dC",
        "outputId": "29336fc8-0a64-451a-932e-63e01829af2e"
      },
      "execution_count": 142,
      "outputs": [
        {
          "output_type": "stream",
          "name": "stdout",
          "text": [
            "List 1 = Odd Output = [25, 35]\n",
            "List 2 = Even Output = [25, 35, 40, 60, 90]\n"
          ]
        },
        {
          "output_type": "execute_result",
          "data": {
            "text/plain": [
              "[25, 35, 40, 60, 90]"
            ]
          },
          "metadata": {},
          "execution_count": 142
        }
      ]
    },
    {
      "cell_type": "markdown",
      "source": [
        "Exercise 11: Write a Program to extract each digit from an integer in the reverse order.\n",
        "\n",
        "For example, If the given int is 7536, the output shall be “6 3 5 7“, with a space separating the digits."
      ],
      "metadata": {
        "id": "mavPYDtD2nef"
      }
    },
    {
      "cell_type": "code",
      "source": [
        "number = 7536\n",
        "while number > 0:\n",
        "  digit = number % 10\n",
        "  number = number // 10\n",
        "  print(digit, end = \" \")"
      ],
      "metadata": {
        "colab": {
          "base_uri": "https://localhost:8080/"
        },
        "id": "jKSf9l5b0jz_",
        "outputId": "6a92c749-203b-4d57-cc46-03546602fc2c"
      },
      "execution_count": 163,
      "outputs": [
        {
          "output_type": "stream",
          "name": "stdout",
          "text": [
            "6 3 5 7 "
          ]
        }
      ]
    },
    {
      "cell_type": "markdown",
      "source": [
        "Understanding the code:-\n",
        "\n",
        "![Screenshot 2024-01-12 165148.png](data:image/png;base64,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)"
      ],
      "metadata": {
        "id": "ZNza_FnlaC10"
      }
    },
    {
      "cell_type": "markdown",
      "source": [
        "Exercise 12: Calculate income tax for the given income by adhering to the rules below\n",
        "\n",
        "![Screenshot 2024-01-12 165601.png](data:image/png;base64,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)\n",
        "\n"
      ],
      "metadata": {
        "id": "4QHJxwx2a16X"
      }
    },
    {
      "cell_type": "code",
      "source": [
        "tax_payable = 0\n",
        "def tax(income):\n",
        "  if income <= 10000:\n",
        "    tax_payable = 0\n",
        "  elif income <= 20000:\n",
        "    x = income - 10000\n",
        "    tax_payable = x * 10 / 100\n",
        "  else:\n",
        "    tax_payable = 0\n",
        "    tax_payable = 10000 * 10 / 100\n",
        "    tax_payable += (income - 20000) * 20 / 100\n",
        "  return tax_payable\n",
        "print(f\"Income tax on Rs 45000 = {tax(45000)}\")\n",
        "print(f\"Income tax on Rs 20000 = {tax(20000)}\")"
      ],
      "metadata": {
        "colab": {
          "base_uri": "https://localhost:8080/"
        },
        "id": "a7la3Ae4aChZ",
        "outputId": "dc33d4d2-75ba-4d89-d7f2-1de59c3df38f"
      },
      "execution_count": 179,
      "outputs": [
        {
          "output_type": "stream",
          "name": "stdout",
          "text": [
            "Income tax on Rs 45000 = 6000.0\n",
            "Income tax on Rs 20000 = 1000.0\n"
          ]
        }
      ]
    },
    {
      "cell_type": "markdown",
      "source": [
        "Exercise 13: Print multiplication table from 1 to 10\n"
      ],
      "metadata": {
        "id": "-4C5ttjZhX5m"
      }
    },
    {
      "cell_type": "code",
      "source": [
        "for i in range(0,21,2):\n",
        "  for j in range(0,11):\n",
        "    print(i*j, end = \" \")\n",
        "  print(\"\\t\\t\")"
      ],
      "metadata": {
        "colab": {
          "base_uri": "https://localhost:8080/"
        },
        "id": "49latEMbZ8Pf",
        "outputId": "397f07ab-0031-4399-adee-136b62dd17a0"
      },
      "execution_count": 197,
      "outputs": [
        {
          "output_type": "stream",
          "name": "stdout",
          "text": [
            "0 0 0 0 0 0 0 0 0 0 0 \t\t\n",
            "0 2 4 6 8 10 12 14 16 18 20 \t\t\n",
            "0 4 8 12 16 20 24 28 32 36 40 \t\t\n",
            "0 6 12 18 24 30 36 42 48 54 60 \t\t\n",
            "0 8 16 24 32 40 48 56 64 72 80 \t\t\n",
            "0 10 20 30 40 50 60 70 80 90 100 \t\t\n",
            "0 12 24 36 48 60 72 84 96 108 120 \t\t\n",
            "0 14 28 42 56 70 84 98 112 126 140 \t\t\n",
            "0 16 32 48 64 80 96 112 128 144 160 \t\t\n",
            "0 18 36 54 72 90 108 126 144 162 180 \t\t\n",
            "0 20 40 60 80 100 120 140 160 180 200 \t\t\n"
          ]
        }
      ]
    },
    {
      "cell_type": "markdown",
      "source": [
        "Exercise 14: Print a downward Half-Pyramid Pattern of Star (asterisk)"
      ],
      "metadata": {
        "id": "7p-3drCLlBdR"
      }
    },
    {
      "cell_type": "code",
      "source": [
        "for i in range(6,0,-1):\n",
        "  for j in range(0,i-1):\n",
        "    print(\"*\", end=\" \")\n",
        "  print(\" \")"
      ],
      "metadata": {
        "colab": {
          "base_uri": "https://localhost:8080/"
        },
        "id": "dWWMaA2ejNa8",
        "outputId": "8e69c4a4-f9f5-4dd8-f787-4ed3118da459"
      },
      "execution_count": 214,
      "outputs": [
        {
          "output_type": "stream",
          "name": "stdout",
          "text": [
            "* * * * *  \n",
            "* * * *  \n",
            "* * *  \n",
            "* *  \n",
            "*  \n",
            " \n"
          ]
        }
      ]
    },
    {
      "cell_type": "code",
      "source": [
        "for i in range(0,6):\n",
        "  for j in range(0,i):\n",
        "    print(\"*\", end= \" \")\n",
        "  print(\" \")"
      ],
      "metadata": {
        "colab": {
          "base_uri": "https://localhost:8080/"
        },
        "id": "zMmftYxwlxAP",
        "outputId": "569dae18-f0ef-486a-b576-be6cc10aa50e"
      },
      "execution_count": 215,
      "outputs": [
        {
          "output_type": "stream",
          "name": "stdout",
          "text": [
            " \n",
            "*  \n",
            "* *  \n",
            "* * *  \n",
            "* * * *  \n",
            "* * * * *  \n"
          ]
        }
      ]
    },
    {
      "cell_type": "markdown",
      "source": [
        "Exercise 15: Write a function called exponent(base, exp) that returns an int value of base raises to the power of exp.\n",
        "\n",
        "Note here exp is a non-negative integer, and the base is an integer."
      ],
      "metadata": {
        "id": "q9riWEWYni2V"
      }
    },
    {
      "cell_type": "code",
      "source": [
        "def exponent(base,exp):\n",
        "  return base**exp\n",
        "print(f\"2 raised to the power of 5 = {exponent(2,5)}\")\n",
        "print(f\"5 raised to the power of 4 = {exponent(5,4)}\")"
      ],
      "metadata": {
        "colab": {
          "base_uri": "https://localhost:8080/"
        },
        "id": "fFWvYmE2nNk3",
        "outputId": "da5cd8a4-4bbe-4d8d-ee2b-d769c427f754"
      },
      "execution_count": 217,
      "outputs": [
        {
          "output_type": "stream",
          "name": "stdout",
          "text": [
            "2 raised to the power of 5 = 32\n",
            "5 raised to the power of 4 = 625\n"
          ]
        }
      ]
    },
    {
      "cell_type": "code",
      "source": [
        "def exponent(base, exp):\n",
        "    num = exp\n",
        "    result = 1\n",
        "    while num > 0:\n",
        "        result *= base\n",
        "        num -= 1\n",
        "        print(base, \"raised to the power of\", exp, \"is: \", result)\n",
        "exponent(2,5)\n",
        "exponent(5,4)"
      ],
      "metadata": {
        "colab": {
          "base_uri": "https://localhost:8080/"
        },
        "id": "v8yyZXTbn2dA",
        "outputId": "e8e999d7-7a34-4a32-f2e3-54dc5f5759d3"
      },
      "execution_count": 230,
      "outputs": [
        {
          "output_type": "stream",
          "name": "stdout",
          "text": [
            "2 raised to the power of 5 is:  2\n",
            "2 raised to the power of 5 is:  4\n",
            "2 raised to the power of 5 is:  8\n",
            "2 raised to the power of 5 is:  16\n",
            "2 raised to the power of 5 is:  32\n",
            "5 raised to the power of 4 is:  5\n",
            "5 raised to the power of 4 is:  25\n",
            "5 raised to the power of 4 is:  125\n",
            "5 raised to the power of 4 is:  625\n"
          ]
        }
      ]
    },
    {
      "cell_type": "code",
      "source": [
        "def calculate_power(base, exp):\n",
        "  num = exp\n",
        "  result = 1\n",
        "  while num > 0:\n",
        "    result *= base\n",
        "    num -= 1\n",
        "    print(base, \"raised to the power of\", exp, \"=\" , result)\n",
        "calculate_power(15,3)\n",
        "print(\"--\"*20)\n",
        "calculate_power(25,4)"
      ],
      "metadata": {
        "colab": {
          "base_uri": "https://localhost:8080/"
        },
        "id": "eIjjf_j4oglJ",
        "outputId": "15b0d231-5025-4d1a-de82-b1b59ce3476c"
      },
      "execution_count": 240,
      "outputs": [
        {
          "output_type": "stream",
          "name": "stdout",
          "text": [
            "15 raised to the power of 3 = 15\n",
            "15 raised to the power of 3 = 225\n",
            "15 raised to the power of 3 = 3375\n",
            "----------------------------------------\n",
            "25 raised to the power of 4 = 25\n",
            "25 raised to the power of 4 = 625\n",
            "25 raised to the power of 4 = 15625\n",
            "25 raised to the power of 4 = 390625\n"
          ]
        }
      ]
    }
  ],
  "metadata": {
    "colab": {
      "provenance": []
    },
    "kernelspec": {
      "display_name": "Python 3",
      "name": "python3"
    },
    "language_info": {
      "name": "python"
    }
  },
  "nbformat": 4,
  "nbformat_minor": 0
}